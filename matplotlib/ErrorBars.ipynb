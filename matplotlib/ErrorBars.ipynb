{
 "cells": [
  {
   "cell_type": "markdown",
   "id": "a25a4d37",
   "metadata": {},
   "source": [
    "### Error Bars in Bar Charts\n",
    "\n",
    "#### Ref: [Zach, Author at Statology](https://www.statology.org/error-bars-python/)"
   ]
  },
  {
   "cell_type": "code",
   "execution_count": 1,
   "id": "65083a2a",
   "metadata": {},
   "outputs": [],
   "source": [
    "import numpy as np\n",
    "import matplotlib.pyplot as plt\n",
    "\n",
    "## Dataset\n",
    "data = [4, 6, 6, 8, 9, 14, 16, 16, 17, 20]"
   ]
  },
  {
   "cell_type": "markdown",
   "id": "f43c0e28",
   "metadata": {},
   "source": [
    "#### To create a bar chart with error bars for this Dataset, we can define the 'width of the error bars' as the STANDARD ERROR, which is calculated:\n",
    "\n",
    "##### `Standard error = s / √n`\n",
    "\n",
    "where:\n",
    "\n",
    "- `s: sample standard deviation`\n",
    "- `n: sample size`"
   ]
  },
  {
   "cell_type": "markdown",
   "id": "46ab81a9",
   "metadata": {},
   "source": [
    "### 2. Calculate Standard Error"
   ]
  },
  {
   "cell_type": "code",
   "execution_count": 2,
   "id": "ef1e11b0",
   "metadata": {},
   "outputs": [],
   "source": [
    "## Delta Degrees of Freedom = 1\n",
    "std_error = np.std(data, ddof=1) / np.sqrt(len(data))"
   ]
  },
  {
   "cell_type": "code",
   "execution_count": 3,
   "id": "852bdd1b",
   "metadata": {},
   "outputs": [
    {
     "data": {
      "text/plain": [
       "1.78"
      ]
     },
     "execution_count": 3,
     "metadata": {},
     "output_type": "execute_result"
    }
   ],
   "source": [
    "## Calculate the standard error\n",
    "std_error=round(std_error, 2)\n",
    "\n",
    "std_error"
   ]
  },
  {
   "cell_type": "markdown",
   "id": "a5c6abe6",
   "metadata": {},
   "source": [
    "#### The standard error turned out to be 1.78. \n",
    "\n",
    "- This is the **width of the error bar** that extends in both directions from the point estimates on the graph. \n",
    "\n",
    "For example, the value of the first bar in the chart is 4, thus it has an error bar that extends from: \n",
    "\n",
    "- ##### Lower end: 4 – 178 = 2.22\n",
    "- ##### Upper end: 4 + 1.78 = 5.78"
   ]
  },
  {
   "cell_type": "markdown",
   "id": "0aedd35d",
   "metadata": {},
   "source": [
    "### 3. Bar Chart \n",
    "- using error bars that have a width equal to the standard error"
   ]
  },
  {
   "cell_type": "code",
   "execution_count": 4,
   "id": "0239210c",
   "metadata": {
    "scrolled": true
   },
   "outputs": [
    {
     "data": {
      "image/png": "[encoded data removed]",
      "text/plain": [
       "<Figure size 432x288 with 1 Axes>"
      ]
     },
     "metadata": {
      "needs_background": "light"
     },
     "output_type": "display_data"
    }
   ],
   "source": [
    "## Define chart \n",
    "fig, ax = plt.subplots()\n",
    "\n",
    "## Create Bar Chart\n",
    "ax.bar(x = np.arange(len(data)), \n",
    "       height = data,\n",
    "       yerr = std_error,\n",
    "       capsize = 4);"
   ]
  },
  {
   "cell_type": "markdown",
   "id": "e25baf13",
   "metadata": {},
   "source": [
    "### 4. Line Chart\n",
    "\n",
    "#### yerr: create vertical error bars\n",
    "\n",
    "\n",
    "#### xerr: create horizontal error bars"
   ]
  },
  {
   "cell_type": "code",
   "execution_count": 5,
   "id": "474d1013",
   "metadata": {},
   "outputs": [
    {
     "data": {
      "image/png": "[encoded data removed]",
      "text/plain": [
       "<Figure size 432x288 with 1 Axes>"
      ]
     },
     "metadata": {
      "needs_background": "light"
     },
     "output_type": "display_data"
    }
   ],
   "source": [
    "## Dataset\n",
    "data = [4, 6, 6, 8, 9, 14, 16, 16, 17, 20]\n",
    "\n",
    "## Delta Degrees of Freedom = 1\n",
    "std_error = np.std(data, ddof=1) / np.sqrt(len(data))\n",
    "\n",
    "## Calculate the standard error\n",
    "std_error=round(std_error, 2)\n",
    "\n",
    "## Define x & y coordinates\n",
    "x = np.arange(len(data))\n",
    "y = data\n",
    "\n",
    "## Create line chart with error bars\n",
    "fig, ax = plt.subplots()\n",
    "\n",
    "ax.errorbar(x, y, yerr=std_error, capsize=4);"
   ]
  },
  {
   "cell_type": "code",
   "execution_count": 6,
   "id": "16dabecc",
   "metadata": {},
   "outputs": [
    {
     "data": {
      "image/png": "[encoded data removed]",
      "text/plain": [
       "<Figure size 432x288 with 1 Axes>"
      ]
     },
     "metadata": {
      "needs_background": "light"
     },
     "output_type": "display_data"
    }
   ],
   "source": [
    "## Create line chart with horizontal error bars\n",
    "fig, ax = plt.subplots()\n",
    "\n",
    "ax.errorbar(x, y, xerr=std_error, capsize=4);"
   ]
  }
 ],
 "metadata": {
  "kernelspec": {
   "display_name": "Python 3 (ipykernel)",
   "language": "python",
   "name": "python3"
  },
  "language_info": {
   "codemirror_mode": {
    "name": "ipython",
    "version": 3
   },
   "file_extension": ".py",
   "mimetype": "text/x-python",
   "name": "python",
   "nbconvert_exporter": "python",
   "pygments_lexer": "ipython3",
   "version": "3.9.6"
  }
 },
 "nbformat": 4,
 "nbformat_minor": 5
}
