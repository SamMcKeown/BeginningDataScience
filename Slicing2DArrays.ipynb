{
 "cells": [
  {
   "cell_type": "markdown",
   "id": "bbb20242",
   "metadata": {},
   "source": [
    "### Sections\n",
    "- 1. Select a single element from 2D array\n",
    "- 2. Select a row(s) from 2D array\n",
    "- 3. Select column(s) from 2D array\n",
    "- 4. Numpy unique operation\n",
    "\n",
    "### Libraries\n",
    "- NumPy"
   ]
  },
  {
   "cell_type": "code",
   "execution_count": 1,
   "id": "ec134ca8",
   "metadata": {},
   "outputs": [
    {
     "name": "stdout",
     "output_type": "stream",
     "text": [
      "Object type: <class 'numpy.ndarray'>\n",
      "Array shape: (3, 3)\n"
     ]
    }
   ],
   "source": [
    "# Effective data-driven science & computation requires understanding how data is stored & manipulated\n",
    "import numpy as np\n",
    "\n",
    "# Create an array\n",
    "data = np.array(([21, 22, 23], \n",
    "                 [11, 22, 33], \n",
    "                 [43, 77, 89]))\n",
    "\n",
    "print(f\"Object type: {type(data)}\")\n",
    "print(f\"Array shape: {data.shape}\")"
   ]
  },
  {
   "cell_type": "markdown",
   "id": "203d532c",
   "metadata": {},
   "source": [
    "### 1. Select a single element from 2D array"
   ]
  },
  {
   "cell_type": "code",
   "execution_count": 2,
   "id": "48d05e9c",
   "metadata": {},
   "outputs": [
    {
     "data": {
      "text/plain": [
       "array([[21, 22, 23],\n",
       "       [11, 22, 33],\n",
       "       [43, 77, 89]])"
      ]
     },
     "metadata": {},
     "output_type": "display_data"
    },
    {
     "data": {
      "text/plain": [
       "21"
      ]
     },
     "metadata": {},
     "output_type": "display_data"
    },
    {
     "data": {
      "text/plain": [
       "21"
      ]
     },
     "metadata": {},
     "output_type": "display_data"
    }
   ],
   "source": [
    "# View 2D array\n",
    "display(data)\n",
    "\n",
    "# [Row index, Column index]\n",
    "display(data[0,0])\n",
    "\n",
    "# ([Row index][Column index])\n",
    "display(data[0][0])"
   ]
  },
  {
   "cell_type": "markdown",
   "id": "b6d93e0d",
   "metadata": {},
   "source": [
    "### 2. Select a row(s) from 2D array"
   ]
  },
  {
   "cell_type": "code",
   "execution_count": 3,
   "id": "92557471",
   "metadata": {},
   "outputs": [
    {
     "data": {
      "text/plain": [
       "array([[21, 22, 23],\n",
       "       [11, 22, 33],\n",
       "       [43, 77, 89]])"
      ]
     },
     "metadata": {},
     "output_type": "display_data"
    },
    {
     "data": {
      "text/plain": [
       "array([11, 22, 33])"
      ]
     },
     "metadata": {},
     "output_type": "display_data"
    },
    {
     "data": {
      "text/plain": [
       "array([[21, 22, 23],\n",
       "       [11, 22, 33]])"
      ]
     },
     "metadata": {},
     "output_type": "display_data"
    }
   ],
   "source": [
    "# View 2D array\n",
    "display(data)\n",
    "\n",
    "# [Row index]\n",
    "display(data[1])\n",
    "\n",
    "# [Row index : Row index]\n",
    "display(data[0:2])"
   ]
  },
  {
   "cell_type": "markdown",
   "id": "b3111bdc",
   "metadata": {},
   "source": [
    "### 3. Select column(s) from 2D array"
   ]
  },
  {
   "cell_type": "code",
   "execution_count": 4,
   "id": "f2014948",
   "metadata": {},
   "outputs": [
    {
     "data": {
      "text/plain": [
       "array([[21, 22, 23],\n",
       "       [11, 22, 33],\n",
       "       [43, 77, 89]])"
      ]
     },
     "metadata": {},
     "output_type": "display_data"
    },
    {
     "data": {
      "text/plain": [
       "array([21, 11, 43])"
      ]
     },
     "metadata": {},
     "output_type": "display_data"
    },
    {
     "data": {
      "text/plain": [
       "array([[22, 23],\n",
       "       [22, 33],\n",
       "       [77, 89]])"
      ]
     },
     "metadata": {},
     "output_type": "display_data"
    }
   ],
   "source": [
    "# View 2D array\n",
    "display(data)\n",
    "\n",
    "# A single column [All Rows, Column index]\n",
    "display(data[:, 0])\n",
    "\n",
    "# Multiple columns [All Rows, Column index : Column index]\n",
    "display(data[:, 1:3])"
   ]
  },
  {
   "cell_type": "markdown",
   "id": "14a1f67c",
   "metadata": {},
   "source": [
    "### 4. Numpy unique operation"
   ]
  },
  {
   "cell_type": "code",
   "execution_count": 5,
   "id": "620a2db9",
   "metadata": {},
   "outputs": [
    {
     "data": {
      "text/plain": [
       "array([10, 23])"
      ]
     },
     "metadata": {},
     "output_type": "display_data"
    },
    {
     "name": "stdout",
     "output_type": "stream",
     "text": [
      "2\n"
     ]
    },
    {
     "data": {
      "text/plain": [
       "array([10, 20, 30])"
      ]
     },
     "metadata": {},
     "output_type": "display_data"
    }
   ],
   "source": [
    "# Create an array\n",
    "data = np.array(([10, 10, 23], \n",
    "                 [11, 20, 33], \n",
    "                 [12, 30, 89]))\n",
    "\n",
    "# Return unique values of a specific row [Row index]\n",
    "display(np.unique(data[0]))\n",
    "\n",
    "# Return the number of unique values in a specific row [Row index]\n",
    "print(len(np.unique(data[0])))\n",
    "\n",
    "# Return unique values of a specific column [All Rows, Column index]\n",
    "display(np.unique(data[:, 1]))"
   ]
  }
 ],
 "metadata": {
  "kernelspec": {
   "display_name": "Python 3 (ipykernel)",
   "language": "python",
   "name": "python3"
  },
  "language_info": {
   "codemirror_mode": {
    "name": "ipython",
    "version": 3
   },
   "file_extension": ".py",
   "mimetype": "text/x-python",
   "name": "python",
   "nbconvert_exporter": "python",
   "pygments_lexer": "ipython3",
   "version": "3.9.6"
  }
 },
 "nbformat": 4,
 "nbformat_minor": 5
}
