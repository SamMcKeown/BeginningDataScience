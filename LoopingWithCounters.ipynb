{
 "cells": [
  {
   "cell_type": "markdown",
   "id": "90a647df",
   "metadata": {},
   "source": [
    "### Sections\n",
    "- 1. Iterating with \"for\" loops\n",
    "- 2. Python's enumerate( )\n",
    "\n",
    "### 1. Iterating with \"for\" Loops"
   ]
  },
  {
   "cell_type": "code",
   "execution_count": 1,
   "id": "a1b278a1",
   "metadata": {},
   "outputs": [
    {
     "name": "stdout",
     "output_type": "stream",
     "text": [
      "Column One\n",
      "Column Two\n",
      "Column Three\n"
     ]
    }
   ],
   "source": [
    "# Define list\n",
    "columns = ['Column One', 'Column Two', 'Column Three']\n",
    "\n",
    "# Example 1\n",
    "for i in columns:\n",
    "    print(i)"
   ]
  },
  {
   "cell_type": "code",
   "execution_count": 2,
   "id": "4c2492a5",
   "metadata": {},
   "outputs": [
    {
     "name": "stdout",
     "output_type": "stream",
     "text": [
      "0 Column One\n",
      "1 Column Two\n",
      "2 Column Three\n"
     ]
    }
   ],
   "source": [
    "# Example 2\n",
    "index = 0\n",
    "for i in columns: \n",
    "    print(index, i)\n",
    "    index+=1"
   ]
  },
  {
   "cell_type": "code",
   "execution_count": 3,
   "id": "c7bb5a3f",
   "metadata": {},
   "outputs": [
    {
     "name": "stdout",
     "output_type": "stream",
     "text": [
      "0 Column One\n",
      "1 Column Two\n",
      "2 Column Three\n"
     ]
    }
   ],
   "source": [
    "# Example 3\n",
    "for i in range(len(columns)):\n",
    "    column = columns[i]\n",
    "    print(i, column)"
   ]
  },
  {
   "cell_type": "markdown",
   "id": "c1f54170",
   "metadata": {},
   "source": [
    "### 2. Python's enumerate( )\n",
    "\n",
    "#### Note: takes an iterable & returns a (index, value) generator"
   ]
  },
  {
   "cell_type": "code",
   "execution_count": 4,
   "id": "e7231c40",
   "metadata": {},
   "outputs": [
    {
     "name": "stdout",
     "output_type": "stream",
     "text": [
      "0 Column One\n",
      "1 Column Two\n",
      "2 Column Three\n"
     ]
    }
   ],
   "source": [
    "# Example 1\n",
    "for index, value in enumerate(columns): \n",
    "    print(index, value)"
   ]
  },
  {
   "cell_type": "code",
   "execution_count": 5,
   "id": "1c3908d6",
   "metadata": {},
   "outputs": [
    {
     "name": "stdout",
     "output_type": "stream",
     "text": [
      "1 Column Two\n",
      "2 Column Three\n"
     ]
    }
   ],
   "source": [
    "# Example 2\n",
    "for index, value in enumerate(columns):\n",
    "    if index >=1:\n",
    "        print(index, value)"
   ]
  },
  {
   "cell_type": "code",
   "execution_count": 6,
   "id": "6eb2493b",
   "metadata": {},
   "outputs": [
    {
     "name": "stdout",
     "output_type": "stream",
     "text": [
      "[0, 1, 2]\n",
      "['Column One', 'Column Two', 'Column Three']\n"
     ]
    }
   ],
   "source": [
    "# Example 3 (using list comprehension)\n",
    "print([i for (i, v) in enumerate(columns)])\n",
    "print([v for (i, v) in enumerate(columns)])"
   ]
  },
  {
   "cell_type": "code",
   "execution_count": 7,
   "id": "97e7ca3e",
   "metadata": {},
   "outputs": [
    {
     "name": "stdout",
     "output_type": "stream",
     "text": [
      "0 1\n",
      "1 3\n",
      "2 6\n",
      "3 9\n",
      "4 27\n",
      "5 88\n",
      "6 11\n",
      "7 35\n",
      "8 2\n",
      "9 4\n"
     ]
    }
   ],
   "source": [
    "# Define list of numbers\n",
    "numbers = [1, 3, 6, 9, 27, 88, 11, 35, 2, 4]\n",
    "\n",
    "# Example 4\n",
    "for index, value in enumerate(numbers):\n",
    "    print(index, value)"
   ]
  },
  {
   "cell_type": "code",
   "execution_count": 8,
   "id": "b6ef064e",
   "metadata": {},
   "outputs": [
    {
     "name": "stdout",
     "output_type": "stream",
     "text": [
      "4 27\n",
      "5 88\n",
      "6 11\n",
      "7 35\n"
     ]
    }
   ],
   "source": [
    "# Example 5\n",
    "for index, value in enumerate(numbers):\n",
    "    if value > 10:\n",
    "        print(index, value)"
   ]
  },
  {
   "cell_type": "code",
   "execution_count": 9,
   "id": "3780be0b",
   "metadata": {},
   "outputs": [
    {
     "name": "stdout",
     "output_type": "stream",
     "text": [
      "[5, 7]\n"
     ]
    }
   ],
   "source": [
    "# Example 6\n",
    "print([index for (index, value) in enumerate(numbers) if value > 30])"
   ]
  }
 ],
 "metadata": {
  "kernelspec": {
   "display_name": "Python 3 (ipykernel)",
   "language": "python",
   "name": "python3"
  },
  "language_info": {
   "codemirror_mode": {
    "name": "ipython",
    "version": 3
   },
   "file_extension": ".py",
   "mimetype": "text/x-python",
   "name": "python",
   "nbconvert_exporter": "python",
   "pygments_lexer": "ipython3",
   "version": "3.9.6"
  }
 },
 "nbformat": 4,
 "nbformat_minor": 5
}
